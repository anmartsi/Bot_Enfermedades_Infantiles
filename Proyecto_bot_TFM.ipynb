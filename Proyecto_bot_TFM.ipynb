{
  "cells": [
    {
      "cell_type": "markdown",
      "metadata": {
        "id": "view-in-github",
        "colab_type": "text"
      },
      "source": [
        "<a href=\"https://colab.research.google.com/github/anmartsi/Bot_Enfermedades_Infantiles/blob/main/Proyecto_bot_TFM.ipynb\" target=\"_parent\"><img src=\"https://colab.research.google.com/assets/colab-badge.svg\" alt=\"Open In Colab\"/></a>"
      ]
    },
    {
      "cell_type": "markdown",
      "metadata": {
        "id": "4J6qUP25Tx3C"
      },
      "source": [
        "## Proyecto bot para el diagnóstico de enfermedades infantiles"
      ]
    },
    {
      "cell_type": "markdown",
      "metadata": {
        "id": "lXpoTHSWUM2b"
      },
      "source": [
        "Este es un bot desarrollado por una estudiante del máster de Procesamiento del Lenguaje Natural e Inteligencia Artificial de La Rioja. Mediante la introducción de síntomas observables en el input del chatbot, el chatbot otorga un posible diagnóstico de la enfermedad y los siguientes pasos a seguir.\n",
        "\n",
        "Debido a que es un chatbot enfocado en enfermedades típicamente infantiles, los posibles diagnósticos con los que nos vamos a encontrar son aquellos de la enfermedad mano-pie-boca, la gastroenteritis común, la fiebre escarlatina y la enfermedad de la bofetada, así como enfermedades prevenibles mediante la vacunación, como la tosferina, la varicela, el sarampión y las paperas.\n",
        "\n",
        "El chatbot se ha desarrollado en la plataforma RASA y sigue la estructura básica de un bot diseñado bajo esta plataforma."
      ]
    },
    {
      "cell_type": "markdown",
      "metadata": {
        "id": "Tmqq1fsxXKvi"
      },
      "source": [
        "### A continuación, muestro los pasos a seguir para la instalación y uso del bot."
      ]
    },
    {
      "cell_type": "code",
      "execution_count": null,
      "metadata": {
        "id": "IdCk1ztPl2gM"
      },
      "outputs": [],
      "source": [
        "# El primer paso es montar Google Drive, que es la plataforma donde los archivos para el funcionamiento del chatbot están almacenados.\n",
        "\n",
        "from google.colab import drive\n",
        "drive.mount('/content/drive')"
      ]
    },
    {
      "cell_type": "code",
      "execution_count": null,
      "metadata": {
        "id": "Q-FEDbn5GBUz"
      },
      "outputs": [],
      "source": [
        "# Cargamos los archivos necesarios para el funcionamiento del bot mediante GitHub.\n",
        "\n",
        "!git clone https://github.com/anmartsi/Bot_Enfermedades_Infantiles.git"
      ]
    },
    {
      "cell_type": "markdown",
      "metadata": {
        "id": "aVasGzO7XsDo"
      },
      "source": [
        "### Para hacer funcionar el chatbot de RASA en el entorno de Colab, primero tendremos que instalar RASA."
      ]
    },
    {
      "cell_type": "code",
      "execution_count": null,
      "metadata": {
        "id": "GKqHfOW8mhTM"
      },
      "outputs": [],
      "source": [
        "# Instalación de rasa\n",
        "\n",
        "!pip install rasa"
      ]
    },
    {
      "cell_type": "code",
      "execution_count": null,
      "metadata": {
        "id": "8JSOJuXSoLzX"
      },
      "outputs": [],
      "source": [
        "# Importamos los módulos del sistema operativo y de RASA.\n",
        "\n",
        "import os\n",
        "import rasa"
      ]
    },
    {
      "cell_type": "markdown",
      "source": [
        "### Configuramos y preparamos los archivos para el entrenamiento del bot."
      ],
      "metadata": {
        "id": "vaVCXaFj7Oam"
      }
    },
    {
      "cell_type": "code",
      "execution_count": null,
      "metadata": {
        "id": "CmTkGb4sIGXV"
      },
      "outputs": [],
      "source": [
        "project='Bot_Enfermedades_Infantiles'"
      ]
    },
    {
      "cell_type": "code",
      "execution_count": null,
      "metadata": {
        "id": "hPcN6RkSIN3g"
      },
      "outputs": [],
      "source": [
        "os.chdir(project)\n",
        "print(os.listdir(\".\"))"
      ]
    },
    {
      "cell_type": "code",
      "execution_count": null,
      "metadata": {
        "id": "L0bpCW0Qnqfe"
      },
      "outputs": [],
      "source": [
        "# Configuramos las variables de los archivos para su correcto funcionamiento.\n",
        "\n",
        "config = \"config.yml\"\n",
        "training_files = \"data/\"\n",
        "domain = 'domain.yml'\n",
        "output = 'models/'"
      ]
    },
    {
      "cell_type": "markdown",
      "metadata": {
        "id": "NuYa_G4KYawu"
      },
      "source": [
        "### Para que el bot funcione correctamente, primero hay que entrenarlo."
      ]
    },
    {
      "cell_type": "code",
      "execution_count": null,
      "metadata": {
        "id": "M3zSvq5dGGCX"
      },
      "outputs": [],
      "source": [
        "model_path = rasa.train(domain, config, [training_files], output)\n",
        "print(model_path)"
      ]
    },
    {
      "cell_type": "markdown",
      "source": [
        "### Ahora ya podemos hacer funcionar el chatbot"
      ],
      "metadata": {
        "id": "vMEXG-AW8P3T"
      }
    },
    {
      "cell_type": "markdown",
      "metadata": {
        "id": "8WcERwKyYqoA"
      },
      "source": [
        "Para permitir que el bot use acciones personalizadas, tenemos que configurar un servidor desde donde puedan ser lanzadas. Una vez conectado el bot con el servidor, podemos comenzar a chatear con él.\n",
        "\n",
        "Cabe mencionar que en el entorno de Colab, Colab muestra el input del chatbot de manera encriptada, pero funciona correctamente a pesar de ello.\n",
        "\n",
        "Para empezar una conversación con el chatbot es necesario saludarlo primero. Una vez el chatbot devuelva el saludo, se puede empezar con la descripción de los síntomas. Los síntomas necesitan estar escritos en el mismo mensaje, para que, basándose en los síntomas mencionados, el bot pueda llegar a una conclusión.\n",
        "\n",
        "Una vez activado el bot, se puede escribir cuantas veces se quiera, sin que los mensajes anteriores afecten a los nuevos diagnósticos."
      ]
    },
    {
      "cell_type": "code",
      "execution_count": null,
      "metadata": {
        "colab": {
          "background_save": true
        },
        "id": "y7hT7fagnP6K"
      },
      "outputs": [],
      "source": [
        "# Establecimiento del servidor de RASA\n",
        "endpoints = \"endpoints.yml\"\n",
        "\n",
        "# Lanzamiento de las acciones personalizadas y de la interfaz del chatbot\n",
        "!rasa run actions & rasa shell"
      ]
    }
  ],
  "metadata": {
    "colab": {
      "provenance": [],
      "include_colab_link": true
    },
    "kernelspec": {
      "display_name": "Python 3",
      "name": "python3"
    },
    "language_info": {
      "name": "python"
    }
  },
  "nbformat": 4,
  "nbformat_minor": 0
}